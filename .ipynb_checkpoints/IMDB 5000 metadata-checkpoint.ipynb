{
 "cells": [
  {
   "cell_type": "markdown",
   "metadata": {
    "collapsed": true
   },
   "source": [
    "# IMDB 5000 movie metadata"
   ]
  },
  {
   "cell_type": "markdown",
   "metadata": {},
   "source": [
    "We will start by loading the dataset into a pandas dataframe, and inspect the attributes of the first entry."
   ]
  },
  {
   "cell_type": "code",
   "execution_count": 236,
   "metadata": {},
   "outputs": [
    {
     "name": "stdout",
     "output_type": "stream",
     "text": [
      "color                                                                    Color\n",
      "director_name                                                   Gore Verbinski\n",
      "num_critic_for_reviews                                                     302\n",
      "duration                                                                   169\n",
      "director_facebook_likes                                                    563\n",
      "actor_3_facebook_likes                                                    1000\n",
      "actor_2_name                                                     Orlando Bloom\n",
      "actor_1_facebook_likes                                                   40000\n",
      "gross                                                              3.09404e+08\n",
      "genres                                                Action|Adventure|Fantasy\n",
      "actor_1_name                                                       Johnny Depp\n",
      "movie_title                          Pirates of the Caribbean: At World's End \n",
      "num_voted_users                                                         471220\n",
      "cast_total_facebook_likes                                                48350\n",
      "actor_3_name                                                    Jack Davenport\n",
      "facenumber_in_poster                                                         0\n",
      "plot_keywords                goddess|marriage ceremony|marriage proposal|pi...\n",
      "movie_imdb_link              http://www.imdb.com/title/tt0449088/?ref_=fn_t...\n",
      "num_user_for_reviews                                                      1238\n",
      "language                                                               English\n",
      "country                                                                    USA\n",
      "content_rating                                                           PG-13\n",
      "budget                                                                   3e+08\n",
      "title_year                                                                2007\n",
      "actor_2_facebook_likes                                                    5000\n",
      "imdb_score                                                                 7.1\n",
      "aspect_ratio                                                              2.35\n",
      "movie_facebook_likes                                                         0\n",
      "Name: 1, dtype: object\n"
     ]
    }
   ],
   "source": [
    "import pandas as pd\n",
    "import seaborn as sns\n",
    "import numpy as np\n",
    "import matplotlib.pyplot as plt\n",
    "from sklearn.decomposition import PCA # Principal component analysis\n",
    "from sklearn.preprocessing import StandardScaler # to standardize the data\n",
    "\n",
    "df = {}\n",
    "df['raw'] = pd.read_csv(\"./data/movie_metadata.csv\")\n",
    "print(df['raw'].iloc[1])\n"
   ]
  },
  {
   "cell_type": "markdown",
   "metadata": {
    "collapsed": true
   },
   "source": [
    "# Detailed explanation of the attributes\n",
    "This dataset consists of 28 different attributes and they together hold information about a movie.\n",
    "\n",
    "## Attribute description\n",
    "A detailed explination of the attributes is shown in the table below. Where each attribute can be discrete or continous, and each attributes' objects are of different types.\n",
    "<br>"
   ]
  },
  {
   "cell_type": "markdown",
   "metadata": {},
   "source": [
    "<style type=\"text/css\">\n",
    ".tg  {border-collapse:collapse;border-spacing:0;}\n",
    ".tg td{font-family:Arial, sans-serif;font-size:14px;padding:10px 5px;border-style:solid;border-width:1px;overflow:hidden;word-break:normal;}\n",
    ".tg th{font-family:Arial, sans-serif;font-size:14px;font-weight:normal;padding:10px 5px;border-style:solid;border-width:1px;overflow:hidden;word-break:normal;}\n",
    ".tg .tg-baqh{text-align:center;vertical-align:top}\n",
    ".tg .tg-amwm{font-weight:bold;text-align:center;vertical-align:top}\n",
    ".tg .tg-yw4l{vertical-align:top}\n",
    "</style>\n",
    "<table class=\"tg\">\n",
    "  <tr>\n",
    "    <th class=\"tg-amwm\">Attribute</th>\n",
    "    <th class=\"tg-amwm\">Description</th>\n",
    "    <th class=\"tg-amwm\">Discrete/Continous</th>\n",
    "    <th class=\"tg-amwm\">Type of attribute</th>\n",
    "  </tr>\n",
    "  <tr>\n",
    "    <td class=\"tg-yw4l\">movie_title</td>\n",
    "    <td class=\"tg-yw4l\">Holds title of the movie.</td>\n",
    "    <td class=\"tg-baqh\">Discrete</td>\n",
    "    <td class=\"tg-baqh\">Nominal</td>\n",
    "  </tr>\n",
    "  <tr>\n",
    "    <td class=\"tg-yw4l\">director_name</td>\n",
    "    <td class=\"tg-yw4l\">Name of director of the movie.</td>\n",
    "    <td class=\"tg-baqh\">Discrete</td>\n",
    "    <td class=\"tg-baqh\">Nominal</td>\n",
    "  </tr>\n",
    "  <tr>\n",
    "    <td class=\"tg-yw4l\">color</td>\n",
    "    <td class=\"tg-yw4l\">Shown in color or black and white.</td>\n",
    "    <td class=\"tg-baqh\">Discrete</td>\n",
    "    <td class=\"tg-baqh\">Nominal</td>\n",
    "  </tr>\n",
    "  <tr>\n",
    "    <td class=\"tg-yw4l\">duration</td>\n",
    "    <td class=\"tg-yw4l\">Duration of the movie in minutes.</td>\n",
    "    <td class=\"tg-baqh\">Discrete</td>\n",
    "    <td class=\"tg-baqh\">Ratio</td>\n",
    "  </tr>\n",
    "  <tr>\n",
    "    <td class=\"tg-yw4l\">actor_1_name</td>\n",
    "    <td class=\"tg-yw4l\">Name of lead actor.</td>\n",
    "    <td class=\"tg-baqh\">Discrete</td>\n",
    "    <td class=\"tg-baqh\">Nominal</td>\n",
    "  </tr>\n",
    "  <tr>\n",
    "    <td class=\"tg-yw4l\">actor_2_name</td>\n",
    "    <td class=\"tg-yw4l\">Name of second actor.</td>\n",
    "    <td class=\"tg-baqh\">Discrete</td>\n",
    "    <td class=\"tg-baqh\">Nominal</td>\n",
    "  </tr>\n",
    "  <tr>\n",
    "    <td class=\"tg-yw4l\">actor_3_name</td>\n",
    "    <td class=\"tg-yw4l\">Name of third actor.</td>\n",
    "    <td class=\"tg-baqh\">Discrete</td>\n",
    "    <td class=\"tg-baqh\">Nominal</td>\n",
    "  </tr>\n",
    "  <tr>\n",
    "    <td class=\"tg-yw4l\">title_year</td>\n",
    "    <td class=\"tg-yw4l\">Year of release.</td>\n",
    "    <td class=\"tg-baqh\">Discrete</td>\n",
    "    <td class=\"tg-baqh\">Interval</td>\n",
    "  </tr>\n",
    "  <tr>\n",
    "    <td class=\"tg-yw4l\">genres</td>\n",
    "    <td class=\"tg-yw4l\">Genres the movie belongs to.</td>\n",
    "    <td class=\"tg-baqh\">Discrete</td>\n",
    "    <td class=\"tg-baqh\">Nominal</td>\n",
    "  </tr>\n",
    "  <tr>\n",
    "    <td class=\"tg-yw4l\">aspect_ratio</td>\n",
    "    <td class=\"tg-yw4l\">Aspect ratio</td>\n",
    "    <td class=\"tg-baqh\">Discrete</td>\n",
    "    <td class=\"tg-baqh\">Nominal</td>\n",
    "  </tr>\n",
    "  <tr>\n",
    "    <td class=\"tg-yw4l\">facenumber_in_poster</td>\n",
    "    <td class=\"tg-yw4l\">Number of faces shown in movie poster.</td>\n",
    "    <td class=\"tg-baqh\">Discrete</td>\n",
    "    <td class=\"tg-baqh\">Ratio</td>\n",
    "  </tr>\n",
    "  <tr>\n",
    "    <td class=\"tg-yw4l\">language</td>\n",
    "    <td class=\"tg-yw4l\">Language spoken in the movie.</td>\n",
    "    <td class=\"tg-baqh\">Discrete</td>\n",
    "    <td class=\"tg-baqh\">Nominal</td>\n",
    "  </tr>\n",
    "  <tr>\n",
    "    <td class=\"tg-yw4l\">country</td>\n",
    "    <td class=\"tg-yw4l\">Country where the movie is filmed.</td>\n",
    "    <td class=\"tg-baqh\">Discrete</td>\n",
    "    <td class=\"tg-baqh\">Nominal</td>\n",
    "  </tr>\n",
    "  <tr>\n",
    "    <td class=\"tg-yw4l\">budget</td>\n",
    "    <td class=\"tg-yw4l\">Cost of the movie.</td>\n",
    "    <td class=\"tg-baqh\">Continous</td>\n",
    "    <td class=\"tg-baqh\">Ratio</td>\n",
    "  </tr>\n",
    "  <tr>\n",
    "    <td class=\"tg-yw4l\">gross</td>\n",
    "    <td class=\"tg-yw4l\">Income of the movie.</td>\n",
    "    <td class=\"tg-baqh\">Continous</td>\n",
    "    <td class=\"tg-baqh\">Ratio</td>\n",
    "  </tr>\n",
    "  <tr>\n",
    "    <td class=\"tg-yw4l\">movie_facebook_likes</td>\n",
    "    <td class=\"tg-yw4l\">Count of facebook likes for the movie.</td>\n",
    "    <td class=\"tg-baqh\">Discrete</td>\n",
    "    <td class=\"tg-baqh\">Ratio</td>\n",
    "  </tr>\n",
    "  <tr>\n",
    "    <td class=\"tg-yw4l\">director_facebook_likes</td>\n",
    "    <td class=\"tg-yw4l\">Count of facebook likes the director has.</td>\n",
    "    <td class=\"tg-baqh\">Discrete</td>\n",
    "    <td class=\"tg-baqh\">Ratio</td>\n",
    "  </tr>\n",
    "  <tr>\n",
    "    <td class=\"tg-yw4l\">actor_1_facebook_likes</td>\n",
    "    <td class=\"tg-yw4l\">Facebook likes actor 1 has.</td>\n",
    "    <td class=\"tg-baqh\">Discrete</td>\n",
    "    <td class=\"tg-baqh\">Ratio</td>\n",
    "  </tr>\n",
    "  <tr>\n",
    "    <td class=\"tg-yw4l\">actor_2_facebook_likes</td>\n",
    "    <td class=\"tg-yw4l\">Facebook likes actor 2 has.</td>\n",
    "    <td class=\"tg-baqh\">Discrete</td>\n",
    "    <td class=\"tg-baqh\">Ratio</td>\n",
    "  </tr>\n",
    "  <tr>\n",
    "    <td class=\"tg-yw4l\">actor_3_facebook_likes</td>\n",
    "    <td class=\"tg-yw4l\">Facebook likes actor 3 has.</td>\n",
    "    <td class=\"tg-baqh\">Discrete</td>\n",
    "    <td class=\"tg-baqh\">Ratio</td>\n",
    "  </tr>\n",
    "  <tr>\n",
    "    <td class=\"tg-yw4l\">cast_total_facebook_likes</td>\n",
    "    <td class=\"tg-yw4l\">Total facebook likes for the whole cast of the movie.</td>\n",
    "    <td class=\"tg-baqh\">Discrete</td>\n",
    "    <td class=\"tg-baqh\">Ratio</td>\n",
    "  </tr>\n",
    "  <tr>\n",
    "    <td class=\"tg-yw4l\">plot_keywords</td>\n",
    "    <td class=\"tg-yw4l\">Keywords describing the movie.</td>\n",
    "    <td class=\"tg-baqh\">Discrete</td>\n",
    "    <td class=\"tg-baqh\">Nominal</td>\n",
    "  </tr>\n",
    "  <tr>\n",
    "    <td class=\"tg-yw4l\">content_rating</td>\n",
    "    <td class=\"tg-yw4l\">Rating of the movie.</td>\n",
    "    <td class=\"tg-baqh\">Discrete</td>\n",
    "    <td class=\"tg-baqh\">Nominal</td>\n",
    "  </tr>\n",
    "  <tr>\n",
    "    <td class=\"tg-yw4l\">num_user_for_reviews</td>\n",
    "    <td class=\"tg-yw4l\">Number of users who wrote reviews.</td>\n",
    "    <td class=\"tg-baqh\">Discrete</td>\n",
    "    <td class=\"tg-baqh\">Ratio</td>\n",
    "  </tr>\n",
    "  <tr>\n",
    "    <td class=\"tg-yw4l\">num_critic_for_reviews</td>\n",
    "    <td class=\"tg-yw4l\">Number of critics who wrote reviews.</td>\n",
    "    <td class=\"tg-baqh\">Discrete</td>\n",
    "    <td class=\"tg-baqh\">Ratio</td>\n",
    "  </tr>\n",
    "  <tr>\n",
    "    <td class=\"tg-yw4l\">num_voted_users</td>\n",
    "    <td class=\"tg-yw4l\">Count of users who have voted the movie.</td>\n",
    "    <td class=\"tg-baqh\">Discrete</td>\n",
    "    <td class=\"tg-baqh\">Ratio</td>\n",
    "  </tr>\n",
    "  <tr>\n",
    "    <td class=\"tg-yw4l\">movie_imdb_link</td>\n",
    "    <td class=\"tg-yw4l\">Holds a link to the movie on the site imdb.</td>\n",
    "    <td class=\"tg-baqh\">Discrete</td>\n",
    "    <td class=\"tg-baqh\">Nominal</td>\n",
    "  </tr>\n",
    "  <tr>\n",
    "    <td class=\"tg-yw4l\">imdb_score</td>\n",
    "    <td class=\"tg-yw4l\">Movie score on IMDB.</td>\n",
    "    <td class=\"tg-baqh\">Continous</td>\n",
    "    <td class=\"tg-baqh\">Ordinal</td>\n",
    "  </tr>\n",
    "</table>"
   ]
  },
  {
   "cell_type": "markdown",
   "metadata": {},
   "source": [
    "## Summary statistics\n",
    "A summary over the different attributes of the dataset."
   ]
  },
  {
   "cell_type": "code",
   "execution_count": 237,
   "metadata": {},
   "outputs": [
    {
     "data": {
      "text/html": [
       "<div>\n",
       "<style>\n",
       "    .dataframe thead tr:only-child th {\n",
       "        text-align: right;\n",
       "    }\n",
       "\n",
       "    .dataframe thead th {\n",
       "        text-align: left;\n",
       "    }\n",
       "\n",
       "    .dataframe tbody tr th {\n",
       "        vertical-align: top;\n",
       "    }\n",
       "</style>\n",
       "<table border=\"1\" class=\"dataframe\">\n",
       "  <thead>\n",
       "    <tr style=\"text-align: right;\">\n",
       "      <th></th>\n",
       "      <th>num_critic_for_reviews</th>\n",
       "      <th>duration</th>\n",
       "      <th>director_facebook_likes</th>\n",
       "      <th>actor_3_facebook_likes</th>\n",
       "      <th>actor_1_facebook_likes</th>\n",
       "      <th>gross</th>\n",
       "      <th>num_voted_users</th>\n",
       "      <th>cast_total_facebook_likes</th>\n",
       "      <th>facenumber_in_poster</th>\n",
       "      <th>num_user_for_reviews</th>\n",
       "      <th>budget</th>\n",
       "      <th>title_year</th>\n",
       "      <th>actor_2_facebook_likes</th>\n",
       "      <th>imdb_score</th>\n",
       "      <th>aspect_ratio</th>\n",
       "      <th>movie_facebook_likes</th>\n",
       "    </tr>\n",
       "  </thead>\n",
       "  <tbody>\n",
       "    <tr>\n",
       "      <th>count</th>\n",
       "      <td>3756.000000</td>\n",
       "      <td>3756.000000</td>\n",
       "      <td>3756.000000</td>\n",
       "      <td>3756.000000</td>\n",
       "      <td>3756.000000</td>\n",
       "      <td>3.756000e+03</td>\n",
       "      <td>3.756000e+03</td>\n",
       "      <td>3756.000000</td>\n",
       "      <td>3756.000000</td>\n",
       "      <td>3756.000000</td>\n",
       "      <td>3.756000e+03</td>\n",
       "      <td>3756.000000</td>\n",
       "      <td>3756.000000</td>\n",
       "      <td>3756.000000</td>\n",
       "      <td>3756.000000</td>\n",
       "      <td>3756.000000</td>\n",
       "    </tr>\n",
       "    <tr>\n",
       "      <th>mean</th>\n",
       "      <td>167.378328</td>\n",
       "      <td>110.257987</td>\n",
       "      <td>807.336528</td>\n",
       "      <td>771.279553</td>\n",
       "      <td>7751.338658</td>\n",
       "      <td>5.261282e+07</td>\n",
       "      <td>1.058267e+05</td>\n",
       "      <td>11527.101970</td>\n",
       "      <td>1.377263</td>\n",
       "      <td>336.843184</td>\n",
       "      <td>4.623685e+07</td>\n",
       "      <td>2002.976571</td>\n",
       "      <td>2021.775825</td>\n",
       "      <td>6.465282</td>\n",
       "      <td>2.111014</td>\n",
       "      <td>9353.829340</td>\n",
       "    </tr>\n",
       "    <tr>\n",
       "      <th>std</th>\n",
       "      <td>123.452040</td>\n",
       "      <td>22.646717</td>\n",
       "      <td>3068.171683</td>\n",
       "      <td>1894.249869</td>\n",
       "      <td>15519.339621</td>\n",
       "      <td>7.031787e+07</td>\n",
       "      <td>1.520354e+05</td>\n",
       "      <td>19122.176905</td>\n",
       "      <td>2.041541</td>\n",
       "      <td>411.227368</td>\n",
       "      <td>2.260103e+08</td>\n",
       "      <td>9.888108</td>\n",
       "      <td>4544.908236</td>\n",
       "      <td>1.056247</td>\n",
       "      <td>0.353068</td>\n",
       "      <td>21462.889123</td>\n",
       "    </tr>\n",
       "    <tr>\n",
       "      <th>min</th>\n",
       "      <td>2.000000</td>\n",
       "      <td>37.000000</td>\n",
       "      <td>0.000000</td>\n",
       "      <td>0.000000</td>\n",
       "      <td>0.000000</td>\n",
       "      <td>1.620000e+02</td>\n",
       "      <td>9.100000e+01</td>\n",
       "      <td>0.000000</td>\n",
       "      <td>0.000000</td>\n",
       "      <td>4.000000</td>\n",
       "      <td>2.180000e+02</td>\n",
       "      <td>1927.000000</td>\n",
       "      <td>0.000000</td>\n",
       "      <td>1.600000</td>\n",
       "      <td>1.180000</td>\n",
       "      <td>0.000000</td>\n",
       "    </tr>\n",
       "    <tr>\n",
       "      <th>25%</th>\n",
       "      <td>77.000000</td>\n",
       "      <td>96.000000</td>\n",
       "      <td>11.000000</td>\n",
       "      <td>194.000000</td>\n",
       "      <td>745.000000</td>\n",
       "      <td>8.270233e+06</td>\n",
       "      <td>1.966700e+04</td>\n",
       "      <td>1919.750000</td>\n",
       "      <td>0.000000</td>\n",
       "      <td>110.000000</td>\n",
       "      <td>1.000000e+07</td>\n",
       "      <td>1999.000000</td>\n",
       "      <td>384.750000</td>\n",
       "      <td>5.900000</td>\n",
       "      <td>1.850000</td>\n",
       "      <td>0.000000</td>\n",
       "    </tr>\n",
       "    <tr>\n",
       "      <th>50%</th>\n",
       "      <td>138.500000</td>\n",
       "      <td>106.000000</td>\n",
       "      <td>64.000000</td>\n",
       "      <td>436.000000</td>\n",
       "      <td>1000.000000</td>\n",
       "      <td>3.009311e+07</td>\n",
       "      <td>5.397350e+04</td>\n",
       "      <td>4059.500000</td>\n",
       "      <td>1.000000</td>\n",
       "      <td>210.000000</td>\n",
       "      <td>2.500000e+07</td>\n",
       "      <td>2004.000000</td>\n",
       "      <td>685.500000</td>\n",
       "      <td>6.600000</td>\n",
       "      <td>2.350000</td>\n",
       "      <td>227.000000</td>\n",
       "    </tr>\n",
       "    <tr>\n",
       "      <th>75%</th>\n",
       "      <td>224.000000</td>\n",
       "      <td>120.000000</td>\n",
       "      <td>235.000000</td>\n",
       "      <td>691.000000</td>\n",
       "      <td>13000.000000</td>\n",
       "      <td>6.688194e+07</td>\n",
       "      <td>1.286020e+05</td>\n",
       "      <td>16240.000000</td>\n",
       "      <td>2.000000</td>\n",
       "      <td>398.250000</td>\n",
       "      <td>5.000000e+07</td>\n",
       "      <td>2010.000000</td>\n",
       "      <td>976.000000</td>\n",
       "      <td>7.200000</td>\n",
       "      <td>2.350000</td>\n",
       "      <td>11000.000000</td>\n",
       "    </tr>\n",
       "    <tr>\n",
       "      <th>max</th>\n",
       "      <td>813.000000</td>\n",
       "      <td>330.000000</td>\n",
       "      <td>23000.000000</td>\n",
       "      <td>23000.000000</td>\n",
       "      <td>640000.000000</td>\n",
       "      <td>7.605058e+08</td>\n",
       "      <td>1.689764e+06</td>\n",
       "      <td>656730.000000</td>\n",
       "      <td>43.000000</td>\n",
       "      <td>5060.000000</td>\n",
       "      <td>1.221550e+10</td>\n",
       "      <td>2016.000000</td>\n",
       "      <td>137000.000000</td>\n",
       "      <td>9.300000</td>\n",
       "      <td>16.000000</td>\n",
       "      <td>349000.000000</td>\n",
       "    </tr>\n",
       "  </tbody>\n",
       "</table>\n",
       "</div>"
      ],
      "text/plain": [
       "       num_critic_for_reviews     duration  director_facebook_likes  \\\n",
       "count             3756.000000  3756.000000              3756.000000   \n",
       "mean               167.378328   110.257987               807.336528   \n",
       "std                123.452040    22.646717              3068.171683   \n",
       "min                  2.000000    37.000000                 0.000000   \n",
       "25%                 77.000000    96.000000                11.000000   \n",
       "50%                138.500000   106.000000                64.000000   \n",
       "75%                224.000000   120.000000               235.000000   \n",
       "max                813.000000   330.000000             23000.000000   \n",
       "\n",
       "       actor_3_facebook_likes  actor_1_facebook_likes         gross  \\\n",
       "count             3756.000000             3756.000000  3.756000e+03   \n",
       "mean               771.279553             7751.338658  5.261282e+07   \n",
       "std               1894.249869            15519.339621  7.031787e+07   \n",
       "min                  0.000000                0.000000  1.620000e+02   \n",
       "25%                194.000000              745.000000  8.270233e+06   \n",
       "50%                436.000000             1000.000000  3.009311e+07   \n",
       "75%                691.000000            13000.000000  6.688194e+07   \n",
       "max              23000.000000           640000.000000  7.605058e+08   \n",
       "\n",
       "       num_voted_users  cast_total_facebook_likes  facenumber_in_poster  \\\n",
       "count     3.756000e+03                3756.000000           3756.000000   \n",
       "mean      1.058267e+05               11527.101970              1.377263   \n",
       "std       1.520354e+05               19122.176905              2.041541   \n",
       "min       9.100000e+01                   0.000000              0.000000   \n",
       "25%       1.966700e+04                1919.750000              0.000000   \n",
       "50%       5.397350e+04                4059.500000              1.000000   \n",
       "75%       1.286020e+05               16240.000000              2.000000   \n",
       "max       1.689764e+06              656730.000000             43.000000   \n",
       "\n",
       "       num_user_for_reviews        budget   title_year  \\\n",
       "count           3756.000000  3.756000e+03  3756.000000   \n",
       "mean             336.843184  4.623685e+07  2002.976571   \n",
       "std              411.227368  2.260103e+08     9.888108   \n",
       "min                4.000000  2.180000e+02  1927.000000   \n",
       "25%              110.000000  1.000000e+07  1999.000000   \n",
       "50%              210.000000  2.500000e+07  2004.000000   \n",
       "75%              398.250000  5.000000e+07  2010.000000   \n",
       "max             5060.000000  1.221550e+10  2016.000000   \n",
       "\n",
       "       actor_2_facebook_likes   imdb_score  aspect_ratio  movie_facebook_likes  \n",
       "count             3756.000000  3756.000000   3756.000000           3756.000000  \n",
       "mean              2021.775825     6.465282      2.111014           9353.829340  \n",
       "std               4544.908236     1.056247      0.353068          21462.889123  \n",
       "min                  0.000000     1.600000      1.180000              0.000000  \n",
       "25%                384.750000     5.900000      1.850000              0.000000  \n",
       "50%                685.500000     6.600000      2.350000            227.000000  \n",
       "75%                976.000000     7.200000      2.350000          11000.000000  \n",
       "max             137000.000000     9.300000     16.000000         349000.000000  "
      ]
     },
     "execution_count": 237,
     "metadata": {},
     "output_type": "execute_result"
    }
   ],
   "source": [
    "df['no_nan'] = df['raw'].dropna() # The NA values are not considered in the summary statistics of the attributes\n",
    "df['no_nan'].describe()"
   ]
  },
  {
   "cell_type": "markdown",
   "metadata": {},
   "source": [
    "# Data analysis\n",
    "In this chapter the dataset is analysed. First the data is standardized."
   ]
  },
  {
   "cell_type": "code",
   "execution_count": 238,
   "metadata": {},
   "outputs": [
    {
     "data": {
      "text/plain": [
       "['num_critic_for_reviews',\n",
       " 'duration',\n",
       " 'director_facebook_likes',\n",
       " 'actor_3_facebook_likes',\n",
       " 'actor_1_facebook_likes',\n",
       " 'gross',\n",
       " 'num_voted_users',\n",
       " 'cast_total_facebook_likes',\n",
       " 'facenumber_in_poster',\n",
       " 'num_user_for_reviews',\n",
       " 'budget',\n",
       " 'title_year',\n",
       " 'actor_2_facebook_likes',\n",
       " 'imdb_score',\n",
       " 'aspect_ratio',\n",
       " 'movie_facebook_likes']"
      ]
     },
     "execution_count": 238,
     "metadata": {},
     "output_type": "execute_result"
    }
   ],
   "source": [
    "df['numeric'] = df['raw']._get_numeric_data()\n",
    "df['numeric'] = df['numeric'].dropna()\n",
    "#df['numeric_std'] = StandardScaler().fit_transform(df['numeric'])\n",
    "df['numeric_std'] = ((df['numeric'] - df['numeric'].mean()) / df['numeric'].std())\n",
    "list(df['numeric'])"
   ]
  },
  {
   "cell_type": "markdown",
   "metadata": {},
   "source": [
    "The list printout of the dataset only with numerical data, shows that the analysation of the data will only include the shown attributes."
   ]
  },
  {
   "cell_type": "markdown",
   "metadata": {},
   "source": [
    "## Eigendecomposition\n",
    "The data is preprocessed, where the eigenvectors and eigenvalues are found with an eigendecomposition of the covariance matrix."
   ]
  },
  {
   "cell_type": "markdown",
   "metadata": {},
   "source": [
    "### Covariance between features\n",
    "To be able to perform an eigendecomposition to find the eigenvalues and eigenvectors, we first need to find the covariance between the features."
   ]
  },
  {
   "cell_type": "code",
   "execution_count": 239,
   "metadata": {},
   "outputs": [
    {
     "name": "stdout",
     "output_type": "stream",
     "text": [
      "Covariance matrix: \n",
      " [[ 1.          0.2277051   0.17691581  0.25508576  0.17019757  0.46853499\n",
      "   0.59498973  0.24100544 -0.03400866  0.56679514  0.10568105  0.41038049\n",
      "   0.25583672  0.34388077  0.18064082  0.70396936]\n",
      " [ 0.2277051   1.          0.179734    0.12577123  0.08471988  0.24474304\n",
      "   0.33803814  0.12117142  0.02909973  0.35039147  0.06816122 -0.12942203\n",
      "   0.12945227  0.36612369  0.15311429  0.2149361 ]\n",
      " [ 0.17691581  0.179734    1.          0.11824025  0.09073261  0.13993814\n",
      "   0.30061915  0.11974122 -0.04761895  0.21831138  0.01855931 -0.04460636\n",
      "   0.11690032  0.19083814  0.03787106  0.16273728]\n",
      " [ 0.25508576  0.12577123  0.11824025  1.          0.25372024  0.30158391\n",
      "   0.26945536  0.49068631  0.10501768  0.20732096  0.04047813  0.11553537\n",
      "   0.55418237  0.06497354  0.04712336  0.27251268]\n",
      " [ 0.17019757  0.08471988  0.09073261  0.25372024  1.          0.14704475\n",
      "   0.18226526  0.94492526  0.05757968  0.12522139  0.01708638  0.09374233\n",
      "   0.39267587  0.09313142  0.05760375  0.13177824]\n",
      " [ 0.46853499  0.24474304  0.13993814  0.30158391  0.14704475  1.\n",
      "   0.62694784  0.23868703 -0.0322537   0.54710674  0.10038914  0.052368\n",
      "   0.25465945  0.21212439  0.06526004  0.36849402]\n",
      " [ 0.59498973  0.33803814  0.30061915  0.26945536  0.18226526  0.62694784\n",
      "   1.          0.25194009 -0.03202642  0.77992455  0.06682395  0.02193838\n",
      "   0.24666028  0.47791732  0.08548456  0.51869065]\n",
      " [ 0.24100544  0.12117142  0.11974122  0.49068631  0.94492526  0.23868703\n",
      "   0.25194009  1.          0.08098495  0.18228784  0.02942336  0.12401462\n",
      "   0.64401612  0.1062587   0.06967465  0.2070608 ]\n",
      " [-0.03400866  0.02909973 -0.04761895  0.10501768  0.05757968 -0.0322537\n",
      "  -0.03202642  0.08098495  1.         -0.0794036  -0.02175723  0.06795245\n",
      "   0.07413806 -0.06429247  0.01662043  0.01433235]\n",
      " [ 0.56679514  0.35039147  0.21831138  0.20732096  0.12522139  0.54710674\n",
      "   0.77992455  0.18228784 -0.0794036   1.          0.07125387  0.01759409\n",
      "   0.18958182  0.32252237  0.09855669  0.37197029]\n",
      " [ 0.10568105  0.06816122  0.01855931  0.04047813  0.01708638  0.10038914\n",
      "   0.06682395  0.02942336 -0.02175723  0.07125387  1.          0.04629319\n",
      "   0.03621089  0.02904057  0.02579646  0.0530351 ]\n",
      " [ 0.41038049 -0.12942203 -0.04460636  0.11553537  0.09374233  0.052368\n",
      "   0.02193838  0.12401462  0.06795245  0.01759409  0.04629319  1.\n",
      "   0.11973855 -0.12926516  0.21977924  0.30283494]\n",
      " [ 0.25583672  0.12945227  0.11690032  0.55418237  0.39267587  0.25465945\n",
      "   0.24666028  0.64401612  0.07413806  0.18958182  0.03621089  0.11973855\n",
      "   1.          0.10206038  0.0642153   0.23363209]\n",
      " [ 0.34388077  0.36612369  0.19083814  0.06497354  0.09313142  0.21212439\n",
      "   0.47791732  0.1062587  -0.06429247  0.32252237  0.02904057 -0.12926516\n",
      "   0.10206038  1.          0.02845372  0.27947774]\n",
      " [ 0.18064082  0.15311429  0.03787106  0.04712336  0.05760375  0.06526004\n",
      "   0.08548456  0.06967465  0.01662043  0.09855669  0.02579646  0.21977924\n",
      "   0.0642153   0.02845372  1.          0.11031824]\n",
      " [ 0.70396936  0.2149361   0.16273728  0.27251268  0.13177824  0.36849402\n",
      "   0.51869065  0.2070608   0.01433235  0.37197029  0.0530351   0.30283494\n",
      "   0.23363209  0.27947774  0.11031824  1.        ]]\n"
     ]
    }
   ],
   "source": [
    "mean_vector = np.mean(df['numeric_std'], axis=0)\n",
    "#cov_matrix = (df['numeric_std'] - mean_vector).T.dot((df['numeric_std'] - mean_vector)) / (df['numeric_std'].shape[0]-1)\n",
    "cov_matrix = np.cov(df['numeric_std'].T)\n",
    "print('Covariance matrix: \\n', cov_matrix)"
   ]
  },
  {
   "cell_type": "markdown",
   "metadata": {},
   "source": [
    "### Eigenvalues and eigenvectors\n",
    "Now the eigendecomposition of the covariance matrix can be performed."
   ]
  },
  {
   "cell_type": "code",
   "execution_count": 240,
   "metadata": {},
   "outputs": [
    {
     "name": "stdout",
     "output_type": "stream",
     "text": [
      "Eigenvalues: \n",
      " [  4.44580470e+00   2.13638826e+00   1.49676251e+00   1.77127604e-03\n",
      "   1.49832592e-01   2.45489846e-01   4.15713572e-01   4.43199530e-01\n",
      "   4.83090305e-01   5.91155511e-01   7.81093607e-01   1.05104702e+00\n",
      "   1.01385279e+00   9.95797015e-01   8.65920555e-01   8.83080919e-01]\n",
      "Eigenvectors: \n",
      " [[ -3.62354414e-01  -1.55231715e-01  -3.27054448e-01  -1.62025489e-03\n",
      "   -3.31573710e-01  -7.50503288e-01  -4.12158468e-02  -1.16389036e-01\n",
      "    3.65453280e-02  -2.97597990e-02   7.18269165e-02  -6.13156205e-02\n",
      "    3.79048270e-02   8.15100857e-02  -1.64750964e-01  -5.31998566e-02]\n",
      " [ -2.06546689e-01  -1.77456956e-01   2.72900550e-01   1.78092632e-03\n",
      "   -8.22090214e-02   2.24263723e-02   1.47776172e-03   6.83130523e-02\n",
      "   -1.01618892e-01  -7.03489867e-01   2.49215267e-01   4.80791333e-01\n",
      "   -6.11947994e-02  -1.57182288e-01   6.59324034e-02  -9.02684044e-02]\n",
      " [ -1.58008874e-01  -9.48378711e-02   2.08405953e-01  -6.38573426e-06\n",
      "    5.74527147e-02  -4.97074269e-02  -3.18951662e-02   9.38149931e-02\n",
      "   -1.28119567e-02  -3.44034525e-02  -2.73098883e-01   1.26949427e-01\n",
      "    1.20084828e-01   1.60520855e-01  -2.52498768e-01   8.43223515e-01]\n",
      " [ -2.52236775e-01   2.77675290e-01   6.54393896e-03   1.11629352e-01\n",
      "   -7.32039382e-03  -5.27653615e-02   6.40802910e-01   4.54586526e-02\n",
      "    5.63732344e-02   7.69493290e-02   3.43233026e-01  -1.38729482e-01\n",
      "   -2.84859191e-01  -1.35368922e-01   3.13750675e-01   2.95251703e-01]\n",
      " [ -2.22852363e-01   4.63064366e-01   1.64286814e-01   6.16235573e-01\n",
      "    1.37539536e-02  -8.82581327e-03   1.40744386e-01   4.09653351e-02\n",
      "    1.03225145e-01  -7.59172957e-02  -2.61220589e-01   7.87904953e-02\n",
      "    2.87897490e-01   1.13896363e-01  -2.29882968e-01  -2.60482327e-01]\n",
      " [ -3.17777537e-01  -1.35716645e-01   1.73334984e-02   1.26641042e-02\n",
      "    1.50519021e-01  -7.58399322e-02  -2.05559844e-01   7.15875743e-01\n",
      "    9.27100995e-02  -2.40312663e-02  -2.96163637e-01  -2.48505975e-01\n",
      "   -1.09607051e-01  -1.26008934e-01   3.15229398e-01  -1.05331310e-01]\n",
      " [ -3.85209501e-01  -2.40217226e-01   9.37218992e-02  -1.50214124e-03\n",
      "   -6.59253091e-01   4.83334655e-01   6.02862649e-02  -1.43676986e-01\n",
      "   -6.08335647e-02   1.63757380e-01  -2.02531824e-01  -1.02664437e-01\n",
      "   -6.40227052e-02   3.76866197e-02   3.04011482e-02  -6.40233628e-02]\n",
      " [ -2.84546876e-01   5.05361278e-01   1.48157539e-01  -7.57891916e-01\n",
      "    1.34551187e-02  -4.44235464e-03   3.96772415e-02   4.67928111e-03\n",
      "    4.04740324e-02  -3.05419743e-02  -9.33709214e-02   2.35440710e-02\n",
      "    1.64534337e-01   5.40888706e-02  -8.63167280e-02  -1.27295498e-01]\n",
      " [ -4.62217718e-03   1.61083418e-01  -8.87852393e-02   4.65354806e-04\n",
      "    2.75675443e-02  -5.14923402e-02  -4.26032843e-02  -2.46259348e-02\n",
      "   -1.05665301e-02   1.33912362e-01  -3.20901140e-01   3.45420280e-01\n",
      "   -7.59304938e-01  -2.07487587e-01  -3.10962238e-01  -6.07070046e-02]\n",
      " [ -3.40354806e-01  -2.57060225e-01   7.43066317e-02  -9.77154055e-04\n",
      "    5.42280959e-01  -4.94121487e-02   1.36650987e-01  -5.11960976e-01\n",
      "   -2.85736275e-01  -2.72596289e-02  -3.03658741e-01  -1.10103138e-01\n",
      "   -1.71392135e-02  -5.13454846e-03   1.85893236e-01  -1.16929189e-01]\n",
      " [ -5.78727690e-02  -3.76683063e-02  -6.76958379e-02  -3.42791319e-04\n",
      "    6.65289321e-03   3.57749204e-02   9.10140318e-03  -5.04651649e-02\n",
      "    2.93009636e-02   8.47629679e-02  -9.31759634e-03  -6.61946461e-02\n",
      "    3.21986794e-01  -9.00840516e-01  -2.30444082e-01   7.67454347e-02]\n",
      " [ -1.02572177e-01   1.14370619e-01  -6.67981350e-01   9.74049700e-04\n",
      "    6.56619302e-02   2.71070874e-01   1.02190097e-01   2.22317944e-01\n",
      "   -5.61258189e-01  -1.83168016e-01   1.17782188e-02   2.41688091e-02\n",
      "    8.93252396e-02   9.06897591e-02  -1.54128521e-01   5.74101039e-02]\n",
      " [ -2.63036546e-01   3.65828672e-01   6.25013501e-02   1.82207903e-01\n",
      "    1.75643398e-03   4.26821707e-02  -6.86442183e-01  -1.96303089e-01\n",
      "   -2.28572139e-01   1.07280730e-01   3.09856863e-01  -6.71183786e-02\n",
      "   -1.02478409e-01  -6.57259261e-02   1.98560604e-01   1.72608889e-01]\n",
      " [ -2.22104153e-01  -2.38787377e-01   2.72306381e-01  -4.56678863e-03\n",
      "    1.97252411e-01  -1.86695665e-03   7.25477182e-02   2.68416386e-01\n",
      "   -2.42305908e-01   5.17461134e-01   4.16090447e-01   1.99927253e-01\n",
      "    4.98913355e-02   1.02415005e-01  -3.42139720e-01  -1.83407400e-01]\n",
      " [ -9.20428667e-02  -7.48426298e-03  -2.90456409e-01  -4.29228217e-04\n",
      "    1.08605070e-02   9.20688958e-03  -9.98548198e-03  -2.29462231e-02\n",
      "    1.90690154e-01   3.30770408e-01  -1.10310534e-01   6.82435501e-01\n",
      "    2.55165747e-01  -6.48491508e-03   4.64809835e-01   3.76803718e-02]\n",
      " [ -3.17372162e-01  -1.22225179e-01  -3.00751628e-01   1.01006491e-03\n",
      "    2.89985202e-01   3.31304758e-01  -1.08632017e-01  -1.01521917e-01\n",
      "    6.44562028e-01  -1.22172828e-01   2.40690058e-01  -6.37405798e-02\n",
      "   -8.11874812e-02   1.17026108e-01  -2.55100758e-01   1.33263958e-02]]\n"
     ]
    }
   ],
   "source": [
    "eigen_val, eigen_vec = np.linalg.eig(cov_matrix)\n",
    "print('Eigenvalues: \\n', eigen_val)\n",
    "print('Eigenvectors: \\n', eigen_vec)"
   ]
  },
  {
   "cell_type": "markdown",
   "metadata": {},
   "source": [
    "## Selecting principal components\n",
    "The next step towards the goal of the Principal Component Analysis is to find the number of principal components to include in the analysis.\n",
    "\n",
    "First the Eigenvalues and Eigenvectors are gathered in tuples."
   ]
  },
  {
   "cell_type": "code",
   "execution_count": 241,
   "metadata": {},
   "outputs": [
    {
     "name": "stdout",
     "output_type": "stream",
     "text": [
      "Eigenvalues from highest to lowest:\n",
      "4.44580469646\n",
      "2.1363882565\n",
      "1.49676251129\n",
      "1.05104701557\n",
      "1.01385279214\n",
      "0.995797014572\n",
      "0.883080919082\n",
      "0.86592055526\n",
      "0.781093607224\n",
      "0.591155511436\n",
      "0.483090304644\n",
      "0.443199530174\n",
      "0.415713571524\n",
      "0.245489846152\n",
      "0.149832591928\n",
      "0.00177127604066\n"
     ]
    }
   ],
   "source": [
    "eigen_pairs = [(np.abs(eigen_val[i]), eigen_vec[:,i]) for i in range(len(eigen_val))]\n",
    "\n",
    "eigen_pairs.sort()\n",
    "eigen_pairs.reverse()\n",
    "\n",
    "print('Eigenvalues from highest to lowest:')\n",
    "for eig_val in eigen_pairs:\n",
    "    print(eig_val[0])"
   ]
  },
  {
   "cell_type": "markdown",
   "metadata": {},
   "source": [
    "### Explained variance\n",
    "A plot is generated showing the explained variance."
   ]
  },
  {
   "cell_type": "code",
   "execution_count": 249,
   "metadata": {},
   "outputs": [
    {
     "data": {
      "image/png": "[encoded data removed]",
      "text/plain": [
       "<matplotlib.figure.Figure at 0x7f920d1f2e80>"
      ]
     },
     "metadata": {},
     "output_type": "display_data"
    },
    {
     "name": "stdout",
     "output_type": "stream",
     "text": [
      "Explained variance with 10 principal components: 89.13064299709966%\n"
     ]
    }
   ],
   "source": [
    "var_explained = [(i / sum(eigen_val))*100 for i in sorted(eigen_val, reverse=True)]\n",
    "cum_var_explained = np.cumsum(var_explained)\n",
    "\n",
    "plt.figure(figsize=(15,5))\n",
    "plt.bar(range(1,17), var_explained, alpha=0.5, align='center', label='Individual explained variance', color='b')\n",
    "plt.step(range(1,17), cum_var_explained, where='mid', label='Cumulative explained variance', color='r')\n",
    "plt.axhline(y=90, linewidth=1, color='g', linestyle='dashed', label='90 %')\n",
    "plt.axvline(x=10, linewidth=1, color='y', linestyle='dashed', label='10 principal components')\n",
    "plt.title('Explained variance by different principal components')\n",
    "plt.ylabel('Explained variance in percent')\n",
    "plt.xlabel('Principal components')\n",
    "plt.legend(loc='center right')\n",
    "plt.show()\n",
    "\n",
    "print('Explained variance with 10 principal components: {}%'.format(sum(var_explained[:10])))"
   ]
  },
  {
   "cell_type": "markdown",
   "metadata": {},
   "source": [
    "It is shown in the plot above, that 10 principal components explain around 90 % of the total variance."
   ]
  },
  {
   "cell_type": "markdown",
   "metadata": {},
   "source": [
    "## Data projection\n",
    "The 16 principal components represent a 16 dimensional feature space. We can acheive 90 % of the explained variance by projecting 10 principal components onto a new feature space of 10 dimensions.\n",
    "\n",
    "A projection matrix is constructed."
   ]
  },
  {
   "cell_type": "code",
   "execution_count": 245,
   "metadata": {},
   "outputs": [
    {
     "name": "stdout",
     "output_type": "stream",
     "text": [
      "New feature space: \n",
      " [[-0.36235441 -0.15523172 -0.32705445 -0.06131562  0.03790483  0.08151009\n",
      "  -0.05319986 -0.16475096  0.07182692 -0.0297598 ]\n",
      " [-0.20654669 -0.17745696  0.27290055  0.48079133 -0.0611948  -0.15718229\n",
      "  -0.0902684   0.0659324   0.24921527 -0.70348987]\n",
      " [-0.15800887 -0.09483787  0.20840595  0.12694943  0.12008483  0.16052085\n",
      "   0.84322352 -0.25249877 -0.27309888 -0.03440345]\n",
      " [-0.25223678  0.27767529  0.00654394 -0.13872948 -0.28485919 -0.13536892\n",
      "   0.2952517   0.31375067  0.34323303  0.07694933]\n",
      " [-0.22285236  0.46306437  0.16428681  0.0787905   0.28789749  0.11389636\n",
      "  -0.26048233 -0.22988297 -0.26122059 -0.0759173 ]\n",
      " [-0.31777754 -0.13571665  0.0173335  -0.24850597 -0.10960705 -0.12600893\n",
      "  -0.10533131  0.3152294  -0.29616364 -0.02403127]\n",
      " [-0.3852095  -0.24021723  0.0937219  -0.10266444 -0.06402271  0.03768662\n",
      "  -0.06402336  0.03040115 -0.20253182  0.16375738]\n",
      " [-0.28454688  0.50536128  0.14815754  0.02354407  0.16453434  0.05408887\n",
      "  -0.1272955  -0.08631673 -0.09337092 -0.03054197]\n",
      " [-0.00462218  0.16108342 -0.08878524  0.34542028 -0.75930494 -0.20748759\n",
      "  -0.060707   -0.31096224 -0.32090114  0.13391236]\n",
      " [-0.34035481 -0.25706022  0.07430663 -0.11010314 -0.01713921 -0.00513455\n",
      "  -0.11692919  0.18589324 -0.30365874 -0.02725963]\n",
      " [-0.05787277 -0.03766831 -0.06769584 -0.06619465  0.32198679 -0.90084052\n",
      "   0.07674543 -0.23044408 -0.0093176   0.08476297]\n",
      " [-0.10257218  0.11437062 -0.66798135  0.02416881  0.08932524  0.09068976\n",
      "   0.0574101  -0.15412852  0.01177822 -0.18316802]\n",
      " [-0.26303655  0.36582867  0.06250135 -0.06711838 -0.10247841 -0.06572593\n",
      "   0.17260889  0.1985606   0.30985686  0.10728073]\n",
      " [-0.22210415 -0.23878738  0.27230638  0.19992725  0.04989134  0.102415\n",
      "  -0.1834074  -0.34213972  0.41609045  0.51746113]\n",
      " [-0.09204287 -0.00748426 -0.29045641  0.6824355   0.25516575 -0.00648492\n",
      "   0.03768037  0.46480983 -0.11031053  0.33077041]\n",
      " [-0.31737216 -0.12222518 -0.30075163 -0.06374058 -0.08118748  0.11702611\n",
      "   0.0133264  -0.25510076  0.24069006 -0.12217283]]\n"
     ]
    }
   ],
   "source": [
    "projection_mat = np.hstack((eigen_pairs[0][1].reshape(16,1),\n",
    "                           eigen_pairs[1][1].reshape(16,1),\n",
    "                           eigen_pairs[2][1].reshape(16,1),\n",
    "                           eigen_pairs[3][1].reshape(16,1),\n",
    "                           eigen_pairs[4][1].reshape(16,1),\n",
    "                           eigen_pairs[5][1].reshape(16,1),\n",
    "                           eigen_pairs[6][1].reshape(16,1),\n",
    "                           eigen_pairs[7][1].reshape(16,1),\n",
    "                           eigen_pairs[8][1].reshape(16,1),\n",
    "                           eigen_pairs[9][1].reshape(16,1)))\n",
    "print('Principal component space (10 dimensional): \\n',projection_mat)"
   ]
  },
  {
   "cell_type": "code",
   "execution_count": 261,
   "metadata": {},
   "outputs": [
    {
     "data": {
      "text/plain": [
       "<seaborn.axisgrid.PairGrid at 0x7f9224a5f128>"
      ]
     },
     "execution_count": 261,
     "metadata": {},
     "output_type": "execute_result"
    }
   ],
   "source": [
    "import seaborn as sns\n",
    "\n",
    "N = 10\n",
    "pca = PCA(n_components = N)\n",
    "df['PCA'] = pca.fit_transform(df['numeric_std'])\n",
    "\n",
    "pd.DataFrame(pca.components_)\n",
    "\n",
    "sns.pairplot(pd.DataFrame(df['PCA']))"
   ]
  },
  {
   "cell_type": "code",
   "execution_count": null,
   "metadata": {
    "collapsed": true
   },
   "outputs": [],
   "source": []
  },
  {
   "cell_type": "code",
   "execution_count": null,
   "metadata": {
    "collapsed": true
   },
   "outputs": [],
   "source": []
  },
  {
   "cell_type": "code",
   "execution_count": null,
   "metadata": {
    "collapsed": true
   },
   "outputs": [],
   "source": []
  },
  {
   "cell_type": "code",
   "execution_count": null,
   "metadata": {
    "collapsed": true
   },
   "outputs": [],
   "source": []
  },
  {
   "cell_type": "code",
   "execution_count": null,
   "metadata": {},
   "outputs": [],
   "source": []
  },
  {
   "cell_type": "code",
   "execution_count": null,
   "metadata": {
    "collapsed": true
   },
   "outputs": [],
   "source": []
  },
  {
   "cell_type": "code",
   "execution_count": null,
   "metadata": {
    "collapsed": true
   },
   "outputs": [],
   "source": []
  },
  {
   "cell_type": "code",
   "execution_count": null,
   "metadata": {
    "collapsed": true
   },
   "outputs": [],
   "source": []
  },
  {
   "cell_type": "code",
   "execution_count": null,
   "metadata": {
    "collapsed": true
   },
   "outputs": [],
   "source": []
  },
  {
   "cell_type": "code",
   "execution_count": 262,
   "metadata": {},
   "outputs": [],
   "source": [
    "eigen_vec.T;"
   ]
  },
  {
   "cell_type": "code",
   "execution_count": 257,
   "metadata": {},
   "outputs": [],
   "source": [
    "data_std = df['numeric_std'].as_matrix()\n",
    "data_projected_onto_PC = pd.DataFrame(data_std.dot(projection_mat))"
   ]
  },
  {
   "cell_type": "code",
   "execution_count": null,
   "metadata": {},
   "outputs": [],
   "source": []
  },
  {
   "cell_type": "code",
   "execution_count": null,
   "metadata": {
    "collapsed": true
   },
   "outputs": [],
   "source": []
  }
 ],
 "metadata": {
  "kernelspec": {
   "display_name": "Python 3",
   "language": "python",
   "name": "python3"
  },
  "language_info": {
   "codemirror_mode": {
    "name": "ipython",
    "version": 3
   },
   "file_extension": ".py",
   "mimetype": "text/x-python",
   "name": "python",
   "nbconvert_exporter": "python",
   "pygments_lexer": "ipython3",
   "version": "3.6.2"
  }
 },
 "nbformat": 4,
 "nbformat_minor": 2
}
