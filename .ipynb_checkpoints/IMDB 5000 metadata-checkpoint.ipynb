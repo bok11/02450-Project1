{
 "cells": [
  {
   "cell_type": "markdown",
   "metadata": {
    "collapsed": true
   },
   "source": [
    "# IMDB 5000 movie metadata"
   ]
  },
  {
   "cell_type": "markdown",
   "metadata": {},
   "source": [
    "We will start by loading the dataset into a pandas dataframe, and inspect the attributes of the first entry"
   ]
  },
  {
   "cell_type": "code",
   "execution_count": 1,
   "metadata": {},
   "outputs": [
    {
     "name": "stdout",
     "output_type": "stream",
     "text": [
      "color                                                                    Color\n",
      "director_name                                                   Gore Verbinski\n",
      "num_critic_for_reviews                                                     302\n",
      "duration                                                                   169\n",
      "director_facebook_likes                                                    563\n",
      "actor_3_facebook_likes                                                    1000\n",
      "actor_2_name                                                     Orlando Bloom\n",
      "actor_1_facebook_likes                                                   40000\n",
      "gross                                                              3.09404e+08\n",
      "genres                                                Action|Adventure|Fantasy\n",
      "actor_1_name                                                       Johnny Depp\n",
      "movie_title                          Pirates of the Caribbean: At World's End \n",
      "num_voted_users                                                         471220\n",
      "cast_total_facebook_likes                                                48350\n",
      "actor_3_name                                                    Jack Davenport\n",
      "facenumber_in_poster                                                         0\n",
      "plot_keywords                goddess|marriage ceremony|marriage proposal|pi...\n",
      "movie_imdb_link              http://www.imdb.com/title/tt0449088/?ref_=fn_t...\n",
      "num_user_for_reviews                                                      1238\n",
      "language                                                               English\n",
      "country                                                                    USA\n",
      "content_rating                                                           PG-13\n",
      "budget                                                                   3e+08\n",
      "title_year                                                                2007\n",
      "actor_2_facebook_likes                                                    5000\n",
      "imdb_score                                                                 7.1\n",
      "aspect_ratio                                                              2.35\n",
      "movie_facebook_likes                                                         0\n",
      "Name: 1, dtype: object\n"
     ]
    }
   ],
   "source": [
    "import pandas as pd\n",
    "import seaborn as sns\n",
    "import numpy as np\n",
    "\n",
    "df = pd.read_csv(\"./data/movie_metadata.csv\")\n",
    "print(df.iloc[1])\n"
   ]
  },
  {
   "cell_type": "markdown",
   "metadata": {
    "collapsed": true
   },
   "source": [
    "## 1. A description of the data set."
   ]
  },
  {
   "cell_type": "markdown",
   "metadata": {},
   "source": [
    "### Problem of interest "
   ]
  },
  {
   "cell_type": "markdown",
   "metadata": {},
   "source": [
    "The data consists of 28 attributes, regarded as meta data of movies."
   ]
  },
  {
   "cell_type": "markdown",
   "metadata": {},
   "source": [
    "### Where the dataset was obtained"
   ]
  },
  {
   "cell_type": "markdown",
   "metadata": {},
   "source": [
    "The dataset was provided by kaggle.com"
   ]
  },
  {
   "cell_type": "markdown",
   "metadata": {},
   "source": [
    "### What have previously been done to the data"
   ]
  },
  {
   "cell_type": "markdown",
   "metadata": {},
   "source": [
    "The data has been scraped from the IMDB web site, using a python script.\n",
    "The data has not been pre-proccesed, which means we will expect some NaN values."
   ]
  },
  {
   "cell_type": "code",
   "execution_count": null,
   "metadata": {
    "collapsed": true
   },
   "outputs": [],
   "source": []
  }
 ],
 "metadata": {
  "kernelspec": {
   "display_name": "Python 3",
   "language": "python",
   "name": "python3"
  },
  "language_info": {
   "codemirror_mode": {
    "name": "ipython",
    "version": 3
   },
   "file_extension": ".py",
   "mimetype": "text/x-python",
   "name": "python",
   "nbconvert_exporter": "python",
   "pygments_lexer": "ipython3",
   "version": "3.6.1"
  }
 },
 "nbformat": 4,
 "nbformat_minor": 2
}
