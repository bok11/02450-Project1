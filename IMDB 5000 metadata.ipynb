{
 "cells": [
  {
   "cell_type": "markdown",
   "metadata": {
    "collapsed": true
   },
   "source": [
    "# IMDB 5000 movie metadata"
   ]
  },
  {
   "cell_type": "markdown",
   "metadata": {},
   "source": [
    "We will start by loading the dataset into a pandas dataframe, and inspect the attributes of the first entry"
   ]
  },
  {
   "cell_type": "code",
   "execution_count": 1,
   "metadata": {},
   "outputs": [
    {
     "name": "stdout",
     "output_type": "stream",
     "text": [
      "color                                                                    Color\n",
      "director_name                                                       Sam Mendes\n",
      "num_critic_for_reviews                                                     602\n",
      "duration                                                                   148\n",
      "director_facebook_likes                                                      0\n",
      "actor_3_facebook_likes                                                     161\n",
      "actor_2_name                                                      Rory Kinnear\n",
      "actor_1_facebook_likes                                                   11000\n",
      "gross                                                              2.00074e+08\n",
      "genres                                               Action|Adventure|Thriller\n",
      "actor_1_name                                                   Christoph Waltz\n",
      "movie_title                                                           Spectre \n",
      "num_voted_users                                                         275868\n",
      "cast_total_facebook_likes                                                11700\n",
      "actor_3_name                                                  Stephanie Sigman\n",
      "facenumber_in_poster                                                         1\n",
      "plot_keywords                              bomb|espionage|sequel|spy|terrorist\n",
      "movie_imdb_link              http://www.imdb.com/title/tt2379713/?ref_=fn_t...\n",
      "num_user_for_reviews                                                       994\n",
      "language                                                               English\n",
      "country                                                                     UK\n",
      "content_rating                                                           PG-13\n",
      "budget                                                                2.45e+08\n",
      "title_year                                                                2015\n",
      "actor_2_facebook_likes                                                     393\n",
      "imdb_score                                                                 6.8\n",
      "aspect_ratio                                                              2.35\n",
      "movie_facebook_likes                                                     85000\n",
      "Name: 2, dtype: object\n"
     ]
    }
   ],
   "source": [
    "import pandas as pd\n",
    "import seaborn as sns\n",
    "import numpy as np\n",
    "\n",
    "df = pd.read_csv(\"./data/movie_metadata.csv\")\n",
    "print(df.iloc[2])\n"
   ]
  },
  {
   "cell_type": "code",
   "execution_count": null,
   "metadata": {
    "collapsed": true
   },
   "outputs": [],
   "source": []
  }
 ],
 "metadata": {
  "kernelspec": {
   "display_name": "Python 3",
   "language": "python",
   "name": "python3"
  },
  "language_info": {
   "codemirror_mode": {
    "name": "ipython",
    "version": 3
   },
   "file_extension": ".py",
   "mimetype": "text/x-python",
   "name": "python",
   "nbconvert_exporter": "python",
   "pygments_lexer": "ipython3",
   "version": "3.6.2"
  }
 },
 "nbformat": 4,
 "nbformat_minor": 2
}
